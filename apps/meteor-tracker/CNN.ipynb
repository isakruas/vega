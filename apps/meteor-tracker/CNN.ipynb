{
 "cells": [
  {
   "cell_type": "code",
   "execution_count": 1,
   "id": "f22677be-8a75-4c6b-a2e5-1a7a1b87d102",
   "metadata": {
    "tags": []
   },
   "outputs": [],
   "source": [
    "import torch\n",
    "import torch.nn as nn\n",
    "import torchvision.datasets as datasets\n",
    "import torchvision.transforms as transforms\n",
    "from torch.utils.data import DataLoader\n",
    "from torch.nn import functional as F\n",
    "import numpy as np\n",
    "import matplotlib.pyplot as plt"
   ]
  },
  {
   "cell_type": "code",
   "execution_count": 2,
   "id": "f14a3ff4-2eac-48d1-82ef-3672d6092602",
   "metadata": {
    "tags": []
   },
   "outputs": [],
   "source": [
    "# Define transformações para pré-processamento das imagens\n",
    "transform = transforms.Compose([\n",
    "    transforms.Grayscale(),\n",
    "    transforms.Resize((28, 28)),\n",
    "    transforms.ToTensor(),\n",
    "])"
   ]
  },
  {
   "cell_type": "code",
   "execution_count": 3,
   "id": "6f7ed3d3-7679-4541-9147-66b743091d26",
   "metadata": {
    "tags": []
   },
   "outputs": [],
   "source": [
    "# Carrega o dataset a partir do diretório 'images'\n",
    "dataset = datasets.ImageFolder('./classes/', transform=transform)"
   ]
  },
  {
   "cell_type": "code",
   "execution_count": 4,
   "id": "75b9b7c3-fbba-4e25-b9fb-45fc86a1e8a1",
   "metadata": {
    "tags": []
   },
   "outputs": [],
   "source": [
    "# Divida o dataset em conjuntos de treinamento e teste\n",
    "train_size = int(0.8 * len(dataset))\n",
    "test_size = len(dataset) - train_size\n",
    "train_dataset, test_dataset = torch.utils.data.random_split(dataset, [train_size, test_size])"
   ]
  },
  {
   "cell_type": "code",
   "execution_count": 5,
   "id": "d1dc0e1c-5b46-48f9-a6b7-dd60d31385f5",
   "metadata": {
    "tags": []
   },
   "outputs": [],
   "source": [
    "# Defina os dataloaders para carregar os dados\n",
    "batch_size = 112\n",
    "train_loader = DataLoader(train_dataset, batch_size=batch_size, shuffle=True)\n",
    "test_loader = DataLoader(test_dataset, batch_size=batch_size, shuffle=True)"
   ]
  },
  {
   "cell_type": "code",
   "execution_count": 6,
   "id": "6429b342-f97f-4ee3-a902-e713b7fcb8c9",
   "metadata": {
    "tags": []
   },
   "outputs": [],
   "source": [
    "# Definir modelo CAE\n",
    "class CAE(nn.Module):\n",
    "    def __init__(self):\n",
    "        super(CAE, self).__init__()\n",
    "        \n",
    "        # Encoder\n",
    "        self.encoder = nn.Sequential(\n",
    "            nn.Conv2d(in_channels=1, out_channels=32, kernel_size=3, stride=1, padding=1),\n",
    "            nn.ReLU(),\n",
    "            nn.MaxPool2d(kernel_size=2, stride=2), \n",
    "            nn.Conv2d(in_channels=32, out_channels=64, kernel_size=3, stride=1, padding=1),\n",
    "            nn.ReLU(),\n",
    "            nn.MaxPool2d(kernel_size=2, stride=2), \n",
    "            nn.Conv2d(in_channels=64, out_channels=128, kernel_size=3, stride=1, padding=1),\n",
    "            nn.ReLU(),\n",
    "        )\n",
    "        \n",
    "        # Decoder\n",
    "        self.decoder = nn.Sequential(\n",
    "            nn.ConvTranspose2d(in_channels=128, out_channels=128, kernel_size=3, stride=1, padding=1),\n",
    "            nn.ReLU(),\n",
    "            nn.Upsample(scale_factor=2),\n",
    "            nn.ConvTranspose2d(in_channels=128, out_channels=64, kernel_size=3, stride=1, padding=1),\n",
    "            nn.ReLU(),\n",
    "            nn.Upsample(scale_factor=2),\n",
    "            nn.ConvTranspose2d(in_channels=64, out_channels=1, kernel_size=3, stride=1, padding=1),\n",
    "            nn.Sigmoid()\n",
    "        )\n",
    "    \n",
    "    def forward(self, x):\n",
    "        # Codificação\n",
    "        x = self.encoder(x)\n",
    "        \n",
    "        # Decodificação\n",
    "        x = self.decoder(x)\n",
    "        \n",
    "        return x"
   ]
  },
  {
   "cell_type": "code",
   "execution_count": 7,
   "id": "74ee6314-6057-4888-958e-62f12bce49ba",
   "metadata": {
    "tags": []
   },
   "outputs": [
    {
     "data": {
      "text/plain": [
       "<All keys matched successfully>"
      ]
     },
     "execution_count": 7,
     "metadata": {},
     "output_type": "execute_result"
    }
   ],
   "source": [
    "# Carregando o modelo\n",
    "device = torch.device(\"cuda:0\" if torch.cuda.is_available() else \"cpu\")\n",
    "autoencoder = CAE()\n",
    "autoencoder.load_state_dict(torch.load('cae.pth'))\n",
    "# autoencoder = autoencoder.to(device)"
   ]
  },
  {
   "cell_type": "code",
   "execution_count": 8,
   "id": "9e849e84-c4fb-43b8-8c3b-37deb7d5e127",
   "metadata": {
    "tags": []
   },
   "outputs": [],
   "source": [
    "# Extrai recursos das imagens usando a rede não supervisionada\n",
    "def get_features(dataloader, model):\n",
    "    model.eval()\n",
    "    features = []\n",
    "    labels = []\n",
    "    with torch.no_grad():\n",
    "        for images, batch_labels in dataloader:\n",
    "            batch_features = model.encoder(images)\n",
    "            batch_features = batch_features.reshape(batch_features.size(0), -1)\n",
    "            features.append(batch_features)\n",
    "            labels.append(batch_labels)\n",
    "    features = torch.cat(features, dim=0)\n",
    "    labels = torch.cat(labels, dim=0)\n",
    "    return features, labels"
   ]
  },
  {
   "cell_type": "code",
   "execution_count": 9,
   "id": "7bd90368-9d9c-4c59-baac-2e994219b3ff",
   "metadata": {
    "tags": []
   },
   "outputs": [],
   "source": [
    "# Extrai recursos das imagens usando a rede não supervisionada\n",
    "train_features, train_labels = get_features(train_loader, autoencoder)\n",
    "test_features, test_labels = get_features(test_loader, autoencoder)"
   ]
  },
  {
   "cell_type": "code",
   "execution_count": 10,
   "id": "e4728a49-86f2-438e-a680-fbf570f2eed5",
   "metadata": {
    "tags": []
   },
   "outputs": [],
   "source": [
    "# Cria a rede de classificação supervisionada e a treina usando os recursos extraídos\n",
    "\n",
    "class CNN(nn.Module):\n",
    "    def __init__(self):\n",
    "        super(CNN, self).__init__()\n",
    "        self.fc1 = nn.Linear(28*28, 128)\n",
    "        self.fc2 = nn.Linear(128, 64)\n",
    "        self.fc3 = nn.Linear(64, 4)\n",
    "\n",
    "    def forward(self, x):\n",
    "        x = x.view(x.size(0), -1)\n",
    "        x = F.relu(self.fc1(x))\n",
    "        x = F.relu(self.fc2(x))\n",
    "        x = self.fc3(x)\n",
    "        \n",
    "        return x"
   ]
  },
  {
   "cell_type": "code",
   "execution_count": 11,
   "id": "8dfe5116-3088-45f4-b213-51853057416c",
   "metadata": {
    "tags": []
   },
   "outputs": [],
   "source": [
    "model = CNN()\n",
    "model = model.to(device)"
   ]
  },
  {
   "cell_type": "code",
   "execution_count": 13,
   "id": "31ccc4f1-658f-4ee2-a49a-a3544569b9c3",
   "metadata": {
    "tags": []
   },
   "outputs": [],
   "source": [
    "# Definir função de perda e otimizador\n",
    "criterion = nn.CrossEntropyLoss()\n",
    "optimizer = torch.optim.Adam(model.parameters(), lr=0.001)"
   ]
  },
  {
   "cell_type": "code",
   "execution_count": 17,
   "id": "b052f1dc-6d0c-47e6-8faa-3e4e10f80882",
   "metadata": {
    "tags": []
   },
   "outputs": [
    {
     "name": "stdout",
     "output_type": "stream",
     "text": [
      "Epoch [1/1], Loss: 0.2896, Test Accuracy: 78.10%\n"
     ]
    }
   ],
   "source": [
    "num_epochs = 300\n",
    "for epoch in range(num_epochs):\n",
    "    for i, (features, labels) in enumerate(train_loader):\n",
    "        optimizer.zero_grad()\n",
    "        features = features.to(device)\n",
    "        labels = labels.to(device)\n",
    "        outputs = model(features)\n",
    "        loss = criterion(outputs, labels)\n",
    "        loss.backward()\n",
    "        optimizer.step()\n",
    "        \n",
    "    # Avalia a acurácia no conjunto de dados de teste\n",
    "    correct = 0\n",
    "    total = 0\n",
    "    with torch.no_grad():\n",
    "        for features, labels in test_loader:\n",
    "            features = features.to(device)\n",
    "            labels = labels.to(device)\n",
    "            outputs = model(features)\n",
    "            _, predicted = torch.max(outputs.data, 1)\n",
    "            total += labels.size(0)\n",
    "            correct += (predicted == labels).sum().item()\n",
    "\n",
    "    print('Epoch [{}/{}], Loss: {:.4f}, Test Accuracy: {:.2f}%'.format(epoch+1, num_epochs, loss.item(), 100*correct/total))\n",
    "\n",
    "    # Salvando o modelo\n",
    "torch.save(model.state_dict(), 'cnn.pth')"
   ]
  },
  {
   "cell_type": "code",
   "execution_count": 27,
   "id": "d4dff4d8-6f46-469d-8906-6e08f63d1d31",
   "metadata": {
    "tags": []
   },
   "outputs": [
    {
     "name": "stdout",
     "output_type": "stream",
     "text": [
      "Classe predita: sky_with_meteor\n"
     ]
    },
    {
     "data": {
      "image/png": "[encoded data removed]",
      "text/plain": [
       "<Figure size 640x480 with 1 Axes>"
      ]
     },
     "metadata": {},
     "output_type": "display_data"
    }
   ],
   "source": [
    "# Faça a inferência em uma imagem de exemplo\n",
    "import os\n",
    "from PIL import Image\n",
    "\n",
    "# Especifica o caminho para a pasta com os arquivos .pg\n",
    "folder_path = './classes/sky_with_meteor/'\n",
    "\n",
    "# Obtém uma lista com o nome de todos os arquivos na pasta\n",
    "file_list = os.listdir(folder_path)\n",
    "\n",
    "# Itera sobre cada arquivo na lista\n",
    "for file_name in file_list:\n",
    "    # Verifica se o arquivo tem a extensão .pg\n",
    "    if file_name.endswith('.png'):\n",
    "        # Abre o arquivo com a biblioteca PIL\n",
    "        file_path = os.path.join(folder_path, file_name)\n",
    "        image = Image.open(file_path)\n",
    "        \n",
    "        image = transform(image).to(device)\n",
    "\n",
    "        # Faça a inferência na rede neural na imagem de exemplo\n",
    "        model.eval()\n",
    "        with torch.no_grad():\n",
    "            output = model(image.unsqueeze(0))\n",
    "            _, predicted = torch.max(output, 1)\n",
    "\n",
    "        # Exiba a classe predita pela rede neural\n",
    "        print('Classe predita: %s' % dataset.classes[predicted])\n",
    "        plt.imshow(image.cpu().detach().squeeze(), cmap='gray')\n",
    "        plt.show()\n",
    "\n",
    "    break"
   ]
  }
 ],
 "metadata": {
  "kernelspec": {
   "display_name": "Python 3 (ipykernel)",
   "language": "python",
   "name": "python3"
  },
  "language_info": {
   "codemirror_mode": {
    "name": "ipython",
    "version": 3
   },
   "file_extension": ".py",
   "mimetype": "text/x-python",
   "name": "python",
   "nbconvert_exporter": "python",
   "pygments_lexer": "ipython3",
   "version": "3.10.6"
  }
 },
 "nbformat": 4,
 "nbformat_minor": 5
}

{
 "cells": [
  {
   "cell_type": "markdown",
   "id": "94ba2a98",
   "metadata": {},
   "source": [
    "## Treinando minha rede neural de detecção de meteoros\n",
    "\n",
    "Olá pessoal, gostaria de compartilhar com vocês o algoritmo que tenho desenvolvido para treinar minha rede neural de detecção de meteoros. Embora não seja um algoritmo absurdamente sofisticado, ele me permite estudar um pouco mais sobre alguns algoritmos de inteligência artificial enquanto pratico meu hobby.\n",
    "\n",
    "Neste artigo, apresentarei a abordagem que estou seguindo para a preparação dos dados e para o treinamento efetivo da rede. Basicamente, o algoritmo funciona da seguinte forma: apresento uma imagem a ele e ele a classifica em uma das quatro categorias: empty_sky, horizon, sky_with_clouds e sky_with_meteor. Vamos lá!?"
   ]
  },
  {
   "cell_type": "markdown",
   "id": "daa21f82",
   "metadata": {},
   "source": [
    "### Etapa 1 - Preparando o conjunto de treinamento\n",
    "A parte mais desafiadora de todo o processo é obter os dados e separá-los em categorias diferentes. Tenho uma câmera que grava durante toda a noite, gerando cerca de 1,5 a 2GB de dados por noite. Para utilizar esses dados no algoritmo que desenvolvi, é necessário pré-processá-los e convertê-los para um formato adequado.\n",
    "\n",
    "Nesta etapa de processamento, utilizo o algoritmo [png-seq-creator](https://github.com/isakruas/vega/tree/master/apps/png-seq-creator) para gerar uma sequência de imagens, cada uma correspondendo à compressão de 30 segundos de vídeo. Em seguida, utilizo o algoritmo [gs-img-cropper](https://github.com/isakruas/vega/tree/master/apps/gs-img-cropper) para separar cada uma dessas imagens em 70 regiões distintas.\n",
    "\n",
    "A parte mais desafiadora é rotular cada um dos 70 fragmentos gerados em cada imagem em uma das categorias desejadas: empty_sky, horizon, sky_with_clouds ou sky_with_meteor. Imagem por imagem, observo e movo para a pasta correspondente.\n",
    "\n",
    "Após essa etapa, o processo se torna mais divertido e animador!"
   ]
  },
  {
   "cell_type": "markdown",
   "id": "26ccdc64",
   "metadata": {},
   "source": [
    "### Etapa 2 - Definindo o modelo de rede neural escolhido\n",
    "\n",
    "Certamente, existem vários modelos de rede neural capazes de solucionar o problema abordado, que é a classificação de imagens. Portanto, peço desculpas se a abordagem que escolhi não é a mais recomendada ou eficiente. No entanto, decidi segui-la porque estava interessado em resolver o problema dessa forma.\n",
    "\n",
    "Minha ideia é criar uma rede neural autoencoder. Li que, para tarefas de classificação de imagem, esses modelos podem ajudar a extrair características relevantes das imagens e melhorar a precisão, o que, em minha percepção, se aplica ao meu caso. Como nem todas as imagens que tenho rotuladas são de extrema qualidade, um modelo como este pode me ajudar a extrair as características fundamentais de cada imagem e, assim, possibilitar identificar imagens semelhantes."
   ]
  },
  {
   "cell_type": "markdown",
   "id": "28f62c5e",
   "metadata": {},
   "source": [
    "#### Bibliotecas necessárias para construir o algoritmo\n",
    "Para construir e testar o algoritmo mencionado, vamos precisar das bibliotecas Python:\n",
    "\n",
    "* torch==2.0.0\n",
    "* torchvision==0.15.1\n",
    "* matplotlib\n",
    "\n",
    "Além dessas, vamos utilizar outras bibliotecas complementares, que serão mencionadas ao longo do texto.\n",
    "#### Implementação do algoritmo\n",
    "Para implementar o algoritmo, primeiro precisamos carregar as bibliotecas necessárias:"
   ]
  },
  {
   "cell_type": "code",
   "execution_count": 1,
   "id": "48786e93",
   "metadata": {},
   "outputs": [],
   "source": [
    "import torch\n",
    "import torch.nn as nn\n",
    "import torchvision.datasets as datasets\n",
    "import torchvision.transforms as transforms\n",
    "from torch.utils.data import DataLoader\n",
    "import numpy as np\n",
    "import matplotlib.pyplot as plt"
   ]
  },
  {
   "cell_type": "markdown",
   "id": "5f1eaa58",
   "metadata": {},
   "source": [
    "Definir transformações para pré-processamento das imagens"
   ]
  },
  {
   "cell_type": "code",
   "execution_count": 2,
   "id": "0b782998",
   "metadata": {},
   "outputs": [],
   "source": [
    "transform = transforms.Compose([\n",
    "    transforms.Grayscale(), # imagem em escala de cinza\n",
    "    transforms.Resize((28, 28)), # redimenciona a imagem para 28x28px\n",
    "    transforms.ToTensor(), # converte para tensor do torch\n",
    "])"
   ]
  },
  {
   "cell_type": "markdown",
   "id": "133c73dd",
   "metadata": {},
   "source": [
    "Carregar o dataset a partir do diretório 'classes'"
   ]
  },
  {
   "cell_type": "code",
   "execution_count": 3,
   "id": "a40b998f",
   "metadata": {},
   "outputs": [],
   "source": [
    "dataset = datasets.ImageFolder('./classes/', transform=transform)"
   ]
  },
  {
   "cell_type": "markdown",
   "id": "33c678f7",
   "metadata": {},
   "source": [
    "Dividir o dataset em conjuntos de treinamento e teste"
   ]
  },
  {
   "cell_type": "code",
   "execution_count": 4,
   "id": "d60a30ad",
   "metadata": {},
   "outputs": [],
   "source": [
    "train_size = int(0.8 * len(dataset))\n",
    "test_size = len(dataset) - train_size\n",
    "train_dataset, test_dataset = torch.utils.data.random_split(dataset, [train_size, test_size])"
   ]
  },
  {
   "cell_type": "markdown",
   "id": "82be7b15",
   "metadata": {},
   "source": [
    "Definir os dataloaders para carregar os dados"
   ]
  },
  {
   "cell_type": "code",
   "execution_count": 5,
   "id": "59f1124a",
   "metadata": {},
   "outputs": [],
   "source": [
    "batch_size = 112\n",
    "train_loader = DataLoader(train_dataset, batch_size=batch_size, shuffle=True)\n",
    "test_loader = DataLoader(test_dataset, batch_size=batch_size, shuffle=True)"
   ]
  },
  {
   "cell_type": "markdown",
   "id": "1e6bdb43",
   "metadata": {},
   "source": [
    "E, finalmente, definir o modelo CAE"
   ]
  },
  {
   "cell_type": "code",
   "execution_count": 6,
   "id": "2fc4d3ed",
   "metadata": {},
   "outputs": [],
   "source": [
    "# CAE (Convolutional Autoencoder)\n",
    "class CAE(nn.Module):\n",
    "    def __init__(self):\n",
    "        super(CAE, self).__init__()\n",
    "        \n",
    "        # Encoder\n",
    "        self.encoder = nn.Sequential(\n",
    "            nn.Conv2d(in_channels=1, out_channels=32, kernel_size=3, stride=1, padding=1), # convolução 2D com 32 filtros de tamanho 3x3\n",
    "            nn.ReLU(), # ativação ReLU\n",
    "            nn.MaxPool2d(kernel_size=2, stride=2), # pooling máximo de tamanho 2x2\n",
    "            nn.Conv2d(in_channels=32, out_channels=64, kernel_size=3, stride=1, padding=1), # convolução 2D com 64 filtros de tamanho 3x3\n",
    "            nn.ReLU(), # ativação ReLU\n",
    "            nn.MaxPool2d(kernel_size=2, stride=2), # pooling máximo de tamanho 2x2\n",
    "            nn.Conv2d(in_channels=64, out_channels=128, kernel_size=3, stride=1, padding=1), # convolução 2D com 128 filtros de tamanho 3x3\n",
    "            nn.ReLU(), # ativação ReLU\n",
    "        )\n",
    "        \n",
    "        # Decoder\n",
    "        self.decoder = nn.Sequential(\n",
    "            nn.ConvTranspose2d(in_channels=128, out_channels=128, kernel_size=3, stride=1, padding=1), # transposição da convolução 2D com 128 filtros de tamanho 3x3\n",
    "            nn.ReLU(), # ativação ReLU\n",
    "            nn.Upsample(scale_factor=2), # upsampling por um fator de 2\n",
    "            nn.ConvTranspose2d(in_channels=128, out_channels=64, kernel_size=3, stride=1, padding=1), # transposição da convolução 2D com 64 filtros de tamanho 3x3\n",
    "            nn.ReLU(), # ativação ReLU\n",
    "            nn.Upsample(scale_factor=2), # upsampling por um fator de 2\n",
    "            nn.ConvTranspose2d(in_channels=64, out_channels=1, kernel_size=3, stride=1, padding=1), # transposição da convolução 2D com 1 filtro de tamanho 3x3\n",
    "        )\n",
    "    \n",
    "    def forward(self, x):\n",
    "        \n",
    "        # Codificação\n",
    "        x = self.encoder(x)\n",
    "        \n",
    "        # Decodificação\n",
    "        x = self.decoder(x)\n",
    "\n",
    "        return x"
   ]
  },
  {
   "cell_type": "code",
   "execution_count": 7,
   "id": "97d7f85e",
   "metadata": {},
   "outputs": [
    {
     "data": {
      "text/plain": [
       "CAE(\n",
       "  (encoder): Sequential(\n",
       "    (0): Conv2d(1, 32, kernel_size=(3, 3), stride=(1, 1), padding=(1, 1))\n",
       "    (1): ReLU()\n",
       "    (2): MaxPool2d(kernel_size=2, stride=2, padding=0, dilation=1, ceil_mode=False)\n",
       "    (3): Conv2d(32, 64, kernel_size=(3, 3), stride=(1, 1), padding=(1, 1))\n",
       "    (4): ReLU()\n",
       "    (5): MaxPool2d(kernel_size=2, stride=2, padding=0, dilation=1, ceil_mode=False)\n",
       "    (6): Conv2d(64, 128, kernel_size=(3, 3), stride=(1, 1), padding=(1, 1))\n",
       "    (7): ReLU()\n",
       "  )\n",
       "  (decoder): Sequential(\n",
       "    (0): ConvTranspose2d(128, 128, kernel_size=(3, 3), stride=(1, 1), padding=(1, 1))\n",
       "    (1): ReLU()\n",
       "    (2): Upsample(scale_factor=2.0, mode='nearest')\n",
       "    (3): ConvTranspose2d(128, 64, kernel_size=(3, 3), stride=(1, 1), padding=(1, 1))\n",
       "    (4): ReLU()\n",
       "    (5): Upsample(scale_factor=2.0, mode='nearest')\n",
       "    (6): ConvTranspose2d(64, 1, kernel_size=(3, 3), stride=(1, 1), padding=(1, 1))\n",
       "  )\n",
       ")"
      ]
     },
     "execution_count": 7,
     "metadata": {},
     "output_type": "execute_result"
    }
   ],
   "source": [
    "# Se estiver usando uma GPU CUDA\n",
    "\n",
    "device = torch.device(\"cuda:0\" if torch.cuda.is_available() else \"cpu\")\n",
    "\n",
    "model_cae = CAE()\n",
    "model_cae = model_cae.to(device)\n",
    "model_cae"
   ]
  },
  {
   "cell_type": "markdown",
   "id": "5ffeb791",
   "metadata": {},
   "source": [
    "Então vamos montar o algoritmo de treinamento para este modelo :)"
   ]
  },
  {
   "cell_type": "markdown",
   "id": "4686339a",
   "metadata": {},
   "source": [
    "### Etapa 3 - Treinamento o modelo CAE\n",
    "\n",
    "Nesta etapa de treinamento, seguiremos o padrão convencional. Não há nada de especial em relação ao que já é conhecido pelos que estão familiarizados com este processo. Resumidamente, alimentaremos cada imagem no modelo, calcularemos o erro e ajustaremos os pesos. No entanto, faremos isso de uma maneira muito agradável, usando a biblioteca Torch. Iremos treinar este modelo por 200 épocas."
   ]
  },
  {
   "cell_type": "markdown",
   "id": "b8f0173c",
   "metadata": {},
   "source": [
    "Definindo a função de perda e otimizador"
   ]
  },
  {
   "cell_type": "code",
   "execution_count": 8,
   "id": "d0c68c12",
   "metadata": {},
   "outputs": [],
   "source": [
    "criterion = nn.MSELoss()\n",
    "optimizer = torch.optim.Adam(model_cae.parameters(), lr=0.0001)"
   ]
  },
  {
   "cell_type": "code",
   "execution_count": 9,
   "id": "5c4eeb92",
   "metadata": {},
   "outputs": [
    {
     "name": "stdout",
     "output_type": "stream",
     "text": [
      "Epoch [1/200], Loss: 0.3817\n",
      "Epoch [2/200], Loss: 0.0861\n",
      "Epoch [3/200], Loss: 0.0521\n",
      "Epoch [4/200], Loss: 0.0375\n",
      "Epoch [5/200], Loss: 0.0264\n",
      "Epoch [6/200], Loss: 0.0182\n",
      "Epoch [7/200], Loss: 0.0120\n",
      "Epoch [8/200], Loss: 0.0079\n",
      "Epoch [9/200], Loss: 0.0057\n",
      "Epoch [10/200], Loss: 0.0047\n",
      "Epoch [11/200], Loss: 0.0041\n",
      "Epoch [12/200], Loss: 0.0037\n",
      "Epoch [13/200], Loss: 0.0034\n",
      "Epoch [14/200], Loss: 0.0032\n",
      "Epoch [15/200], Loss: 0.0029\n",
      "Epoch [16/200], Loss: 0.0028\n",
      "Epoch [17/200], Loss: 0.0026\n",
      "Epoch [18/200], Loss: 0.0024\n",
      "Epoch [19/200], Loss: 0.0022\n",
      "Epoch [20/200], Loss: 0.0021\n",
      "Epoch [21/200], Loss: 0.0020\n",
      "Epoch [22/200], Loss: 0.0018\n",
      "Epoch [23/200], Loss: 0.0017\n",
      "Epoch [24/200], Loss: 0.0016\n",
      "Epoch [25/200], Loss: 0.0016\n",
      "Epoch [26/200], Loss: 0.0015\n",
      "Epoch [27/200], Loss: 0.0014\n",
      "Epoch [28/200], Loss: 0.0013\n",
      "Epoch [29/200], Loss: 0.0013\n",
      "Epoch [30/200], Loss: 0.0012\n",
      "Epoch [31/200], Loss: 0.0012\n",
      "Epoch [32/200], Loss: 0.0012\n",
      "Epoch [33/200], Loss: 0.0011\n",
      "Epoch [34/200], Loss: 0.0011\n",
      "Epoch [35/200], Loss: 0.0011\n",
      "Epoch [36/200], Loss: 0.0011\n",
      "Epoch [37/200], Loss: 0.0011\n",
      "Epoch [38/200], Loss: 0.0010\n",
      "Epoch [39/200], Loss: 0.0010\n",
      "Epoch [40/200], Loss: 0.0010\n",
      "Epoch [41/200], Loss: 0.0010\n",
      "Epoch [42/200], Loss: 0.0010\n",
      "Epoch [43/200], Loss: 0.0010\n",
      "Epoch [44/200], Loss: 0.0010\n",
      "Epoch [45/200], Loss: 0.0009\n",
      "Epoch [46/200], Loss: 0.0009\n",
      "Epoch [47/200], Loss: 0.0009\n",
      "Epoch [48/200], Loss: 0.0009\n",
      "Epoch [49/200], Loss: 0.0009\n",
      "Epoch [50/200], Loss: 0.0009\n",
      "Epoch [51/200], Loss: 0.0009\n",
      "Epoch [52/200], Loss: 0.0009\n",
      "Epoch [53/200], Loss: 0.0009\n",
      "Epoch [54/200], Loss: 0.0009\n",
      "Epoch [55/200], Loss: 0.0009\n",
      "Epoch [56/200], Loss: 0.0009\n",
      "Epoch [57/200], Loss: 0.0009\n",
      "Epoch [58/200], Loss: 0.0009\n",
      "Epoch [59/200], Loss: 0.0008\n",
      "Epoch [60/200], Loss: 0.0008\n",
      "Epoch [61/200], Loss: 0.0008\n",
      "Epoch [62/200], Loss: 0.0008\n",
      "Epoch [63/200], Loss: 0.0008\n",
      "Epoch [64/200], Loss: 0.0008\n",
      "Epoch [65/200], Loss: 0.0008\n",
      "Epoch [66/200], Loss: 0.0008\n",
      "Epoch [67/200], Loss: 0.0008\n",
      "Epoch [68/200], Loss: 0.0008\n",
      "Epoch [69/200], Loss: 0.0008\n",
      "Epoch [70/200], Loss: 0.0008\n",
      "Epoch [71/200], Loss: 0.0008\n",
      "Epoch [72/200], Loss: 0.0008\n",
      "Epoch [73/200], Loss: 0.0008\n",
      "Epoch [74/200], Loss: 0.0008\n",
      "Epoch [75/200], Loss: 0.0008\n",
      "Epoch [76/200], Loss: 0.0008\n",
      "Epoch [77/200], Loss: 0.0007\n",
      "Epoch [78/200], Loss: 0.0007\n",
      "Epoch [79/200], Loss: 0.0008\n",
      "Epoch [80/200], Loss: 0.0007\n",
      "Epoch [81/200], Loss: 0.0007\n",
      "Epoch [82/200], Loss: 0.0007\n",
      "Epoch [83/200], Loss: 0.0007\n",
      "Epoch [84/200], Loss: 0.0007\n",
      "Epoch [85/200], Loss: 0.0007\n",
      "Epoch [86/200], Loss: 0.0007\n",
      "Epoch [87/200], Loss: 0.0007\n",
      "Epoch [88/200], Loss: 0.0007\n",
      "Epoch [89/200], Loss: 0.0007\n",
      "Epoch [90/200], Loss: 0.0007\n",
      "Epoch [91/200], Loss: 0.0007\n",
      "Epoch [92/200], Loss: 0.0007\n",
      "Epoch [93/200], Loss: 0.0007\n",
      "Epoch [94/200], Loss: 0.0007\n",
      "Epoch [95/200], Loss: 0.0007\n",
      "Epoch [96/200], Loss: 0.0007\n",
      "Epoch [97/200], Loss: 0.0007\n",
      "Epoch [98/200], Loss: 0.0007\n",
      "Epoch [99/200], Loss: 0.0007\n",
      "Epoch [100/200], Loss: 0.0007\n",
      "Epoch [101/200], Loss: 0.0007\n",
      "Epoch [102/200], Loss: 0.0007\n",
      "Epoch [103/200], Loss: 0.0007\n",
      "Epoch [104/200], Loss: 0.0007\n",
      "Epoch [105/200], Loss: 0.0007\n",
      "Epoch [106/200], Loss: 0.0006\n",
      "Epoch [107/200], Loss: 0.0006\n",
      "Epoch [108/200], Loss: 0.0006\n",
      "Epoch [109/200], Loss: 0.0007\n",
      "Epoch [110/200], Loss: 0.0007\n",
      "Epoch [111/200], Loss: 0.0007\n",
      "Epoch [112/200], Loss: 0.0006\n",
      "Epoch [113/200], Loss: 0.0006\n",
      "Epoch [114/200], Loss: 0.0006\n",
      "Epoch [115/200], Loss: 0.0006\n",
      "Epoch [116/200], Loss: 0.0006\n",
      "Epoch [117/200], Loss: 0.0006\n",
      "Epoch [118/200], Loss: 0.0006\n",
      "Epoch [119/200], Loss: 0.0006\n",
      "Epoch [120/200], Loss: 0.0006\n",
      "Epoch [121/200], Loss: 0.0006\n",
      "Epoch [122/200], Loss: 0.0006\n",
      "Epoch [123/200], Loss: 0.0006\n",
      "Epoch [124/200], Loss: 0.0006\n",
      "Epoch [125/200], Loss: 0.0006\n",
      "Epoch [126/200], Loss: 0.0006\n",
      "Epoch [127/200], Loss: 0.0006\n",
      "Epoch [128/200], Loss: 0.0006\n",
      "Epoch [129/200], Loss: 0.0006\n",
      "Epoch [130/200], Loss: 0.0006\n",
      "Epoch [131/200], Loss: 0.0006\n",
      "Epoch [132/200], Loss: 0.0006\n",
      "Epoch [133/200], Loss: 0.0006\n",
      "Epoch [134/200], Loss: 0.0006\n",
      "Epoch [135/200], Loss: 0.0006\n",
      "Epoch [136/200], Loss: 0.0006\n",
      "Epoch [137/200], Loss: 0.0006\n",
      "Epoch [138/200], Loss: 0.0006\n",
      "Epoch [139/200], Loss: 0.0006\n",
      "Epoch [140/200], Loss: 0.0005\n",
      "Epoch [141/200], Loss: 0.0006\n",
      "Epoch [142/200], Loss: 0.0006\n",
      "Epoch [143/200], Loss: 0.0006\n",
      "Epoch [144/200], Loss: 0.0006\n",
      "Epoch [145/200], Loss: 0.0006\n",
      "Epoch [146/200], Loss: 0.0005\n",
      "Epoch [147/200], Loss: 0.0005\n",
      "Epoch [148/200], Loss: 0.0005\n",
      "Epoch [149/200], Loss: 0.0005\n",
      "Epoch [150/200], Loss: 0.0005\n",
      "Epoch [151/200], Loss: 0.0005\n",
      "Epoch [152/200], Loss: 0.0005\n",
      "Epoch [153/200], Loss: 0.0005\n",
      "Epoch [154/200], Loss: 0.0005\n",
      "Epoch [155/200], Loss: 0.0005\n",
      "Epoch [156/200], Loss: 0.0005\n",
      "Epoch [157/200], Loss: 0.0005\n",
      "Epoch [158/200], Loss: 0.0005\n",
      "Epoch [159/200], Loss: 0.0005\n",
      "Epoch [160/200], Loss: 0.0005\n",
      "Epoch [161/200], Loss: 0.0005\n",
      "Epoch [162/200], Loss: 0.0005\n",
      "Epoch [163/200], Loss: 0.0005\n",
      "Epoch [164/200], Loss: 0.0005\n",
      "Epoch [165/200], Loss: 0.0005\n",
      "Epoch [166/200], Loss: 0.0005\n",
      "Epoch [167/200], Loss: 0.0005\n",
      "Epoch [168/200], Loss: 0.0005\n",
      "Epoch [169/200], Loss: 0.0005\n",
      "Epoch [170/200], Loss: 0.0005\n",
      "Epoch [171/200], Loss: 0.0005\n",
      "Epoch [172/200], Loss: 0.0005\n",
      "Epoch [173/200], Loss: 0.0005\n",
      "Epoch [174/200], Loss: 0.0005\n",
      "Epoch [175/200], Loss: 0.0005\n",
      "Epoch [176/200], Loss: 0.0005\n",
      "Epoch [177/200], Loss: 0.0005\n",
      "Epoch [178/200], Loss: 0.0005\n",
      "Epoch [179/200], Loss: 0.0005\n",
      "Epoch [180/200], Loss: 0.0005\n",
      "Epoch [181/200], Loss: 0.0005\n",
      "Epoch [182/200], Loss: 0.0005\n",
      "Epoch [183/200], Loss: 0.0005\n",
      "Epoch [184/200], Loss: 0.0005\n",
      "Epoch [185/200], Loss: 0.0005\n",
      "Epoch [186/200], Loss: 0.0005\n",
      "Epoch [187/200], Loss: 0.0005\n",
      "Epoch [188/200], Loss: 0.0005\n",
      "Epoch [189/200], Loss: 0.0005\n",
      "Epoch [190/200], Loss: 0.0005\n",
      "Epoch [191/200], Loss: 0.0005\n",
      "Epoch [192/200], Loss: 0.0005\n",
      "Epoch [193/200], Loss: 0.0005\n",
      "Epoch [194/200], Loss: 0.0005\n",
      "Epoch [195/200], Loss: 0.0005\n",
      "Epoch [196/200], Loss: 0.0005\n",
      "Epoch [197/200], Loss: 0.0005\n",
      "Epoch [198/200], Loss: 0.0005\n",
      "Epoch [199/200], Loss: 0.0005\n",
      "Epoch [200/200], Loss: 0.0005\n"
     ]
    }
   ],
   "source": [
    "num_epochs = 200\n",
    "\n",
    "for epoch in range(num_epochs):\n",
    "    epoch_loss = []\n",
    "    for batch in train_loader:\n",
    "        feature, label = batch\n",
    "        feature = feature.to(device)\n",
    "        \n",
    "        # Forward pass\n",
    "        recon = model_cae(feature)\n",
    "        loss = criterion(recon, feature)\n",
    "        epoch_loss.append(loss.detach().item())\n",
    "        \n",
    "        # Backward pass e otimização\n",
    "        optimizer.zero_grad()\n",
    "        loss.backward()\n",
    "        optimizer.step()\n",
    "    \n",
    "    epoch_loss = np.array(epoch_loss)\n",
    "    print(f\"Epoch [{epoch+1}/{num_epochs}], Loss: {epoch_loss.mean():.4f}\")"
   ]
  },
  {
   "cell_type": "markdown",
   "id": "ba384b3e",
   "metadata": {},
   "source": [
    "É importante notar que, considerando a quantidade de dados que possuímos, treinar o modelo por 200 épocas pode ser um exagero. Portanto, fique à vontade para experimentar diferentes quantidades de épocas e encontrar a melhor opção para o nosso conjunto de dados"
   ]
  },
  {
   "cell_type": "markdown",
   "id": "5cbcd319",
   "metadata": {},
   "source": [
    "### Etapa 4 - Testando o modelo CAE \n",
    "\n",
    "\n",
    "Vamos dar uma olhada no resultado do modelo, para verificar se ele consegue reconstruir as imagens conforme o esperado."
   ]
  },
  {
   "cell_type": "code",
   "execution_count": 10,
   "id": "cca8d633",
   "metadata": {},
   "outputs": [],
   "source": [
    "test_loader = DataLoader(dataset=train_dataset, batch_size=batch_size, shuffle=True)"
   ]
  },
  {
   "cell_type": "code",
   "execution_count": 11,
   "id": "fa5af7f6",
   "metadata": {},
   "outputs": [
    {
     "data": {
      "image/png": "[encoded data removed]",
      "text/plain": [
       "<Figure size 1000x300 with 20 Axes>"
      ]
     },
     "metadata": {},
     "output_type": "display_data"
    }
   ],
   "source": [
    "with torch.no_grad():\n",
    "    for data in test_loader:\n",
    "        img, _ = data\n",
    "        img = img.to(device)\n",
    "        \n",
    "        # Reconstruir imagem\n",
    "        recon = model_cae(img)\n",
    "        \n",
    "        img = img.cpu().detach().numpy()\n",
    "        recon = recon.cpu().detach().numpy()\n",
    "        \n",
    "        # Exibir imagem original e reconstruída\n",
    "        plt.figure(figsize=(10, 3))\n",
    "        for i in range(10):\n",
    "            # Imagem original\n",
    "            plt.subplot(2, 10, i+1)\n",
    "            plt.imshow(img[i, 0], cmap='gray')\n",
    "            if i ==0:\n",
    "                 plt.title('Imagem original')\n",
    "            plt.axis('off')\n",
    "            \n",
    "            # Imagem reconstruída\n",
    "            plt.subplot(2, 10, i+11)\n",
    "            plt.imshow(recon[i, 0], cmap='gray')\n",
    "            if i ==0:\n",
    "                 plt.title('Imagem reconstruída')\n",
    "            plt.axis('off')\n",
    "        plt.show()\n",
    "        break"
   ]
  },
  {
   "cell_type": "markdown",
   "id": "8530fadd",
   "metadata": {},
   "source": [
    "Observe que o modelo está reconstruindo bem as imagens, o que é ótimo, significa que podemos passar para a próxima etapa!"
   ]
  },
  {
   "cell_type": "markdown",
   "id": "bab518ec",
   "metadata": {},
   "source": [
    "### Etapa 5 - Definindo modelo MLP\n",
    "\n",
    "Iremos definir um modelo MLP para realizar a classificação dos dados que serão retornados pelo CAE. Embora possam existir outras abordagens possíveis e talvez mais interessantes, optei por seguir esse caminho no momento."
   ]
  },
  {
   "cell_type": "code",
   "execution_count": 12,
   "id": "2efc5adf",
   "metadata": {},
   "outputs": [],
   "source": [
    "class MLP(nn.Module):\n",
    "    def __init__(self):\n",
    "        super(MLP, self).__init__()\n",
    "        # Classifier\n",
    "        self.classifier = nn.Sequential(\n",
    "            nn.Linear(28 * 28, 128), # camada linear com 128 neurônios\n",
    "            nn.ReLU(), # ativação ReLU\n",
    "            nn.Linear(128, 64), # camada linear com 64 neurônios\n",
    "            nn.ReLU(), # ativação ReLU\n",
    "            nn.Linear(64, 4), # camada linear com 4 neurônios\n",
    "            # nn.Sigmoid() # ativação sigmoid\n",
    "        )\n",
    "\n",
    "    def forward(self, x):\n",
    "        # Classificação\n",
    "        x = x.view(x.size(0), -1)\n",
    "        x = self.classifier(x)\n",
    "        return x"
   ]
  },
  {
   "cell_type": "code",
   "execution_count": 13,
   "id": "23878e7f",
   "metadata": {},
   "outputs": [
    {
     "data": {
      "text/plain": [
       "MLP(\n",
       "  (classifier): Sequential(\n",
       "    (0): Linear(in_features=784, out_features=128, bias=True)\n",
       "    (1): ReLU()\n",
       "    (2): Linear(in_features=128, out_features=64, bias=True)\n",
       "    (3): ReLU()\n",
       "    (4): Linear(in_features=64, out_features=4, bias=True)\n",
       "  )\n",
       ")"
      ]
     },
     "execution_count": 13,
     "metadata": {},
     "output_type": "execute_result"
    }
   ],
   "source": [
    "model_mlp = MLP()\n",
    "model_mlp = model_mlp.to(device)\n",
    "model_mlp"
   ]
  },
  {
   "cell_type": "markdown",
   "id": "62a956b5",
   "metadata": {},
   "source": [
    "### Etapa 6 - Treinamento o modelo MLP\n",
    "\n",
    "Para realizar o treinamento do modelo MLP, será necessário extrair as características identificadas pelo CAE e utilizá-las como entrada para o modelo. Com isso, poderemos seguir o fluxo comum de treinamento de um MLP, aplicando as técnicas habituais nessa etapa."
   ]
  },
  {
   "cell_type": "markdown",
   "id": "de3a1b31",
   "metadata": {},
   "source": [
    "Função útil para extrair recursos das imagens "
   ]
  },
  {
   "cell_type": "code",
   "execution_count": 14,
   "id": "4c138357",
   "metadata": {},
   "outputs": [],
   "source": [
    "def get_features(dataloader, model):\n",
    "    device = next(model.parameters()).device\n",
    "    model.eval()\n",
    "    features = []\n",
    "    labels = []\n",
    "    with torch.no_grad():\n",
    "        for images, batch_labels in dataloader:\n",
    "            images = images.to(device)\n",
    "            batch_features = model.encoder(images)\n",
    "            batch_features = batch_features.reshape(batch_features.size(0), -1)\n",
    "            features.append(batch_features)\n",
    "            labels.append(batch_labels)\n",
    "    features = torch.cat(features, dim=0)\n",
    "    labels = torch.cat(labels, dim=0)\n",
    "    return features, labels"
   ]
  },
  {
   "cell_type": "markdown",
   "id": "b9a6c505",
   "metadata": {},
   "source": [
    "Extraindo os recursos das imagens usando a rede não supervisionada"
   ]
  },
  {
   "cell_type": "code",
   "execution_count": 15,
   "id": "52c8d939",
   "metadata": {},
   "outputs": [],
   "source": [
    "train_features, train_labels = get_features(train_loader, model_cae)\n",
    "test_features, test_labels = get_features(test_loader, model_cae)"
   ]
  },
  {
   "cell_type": "markdown",
   "id": "c42f7993",
   "metadata": {},
   "source": [
    "Definindo a função de perda e otimizador"
   ]
  },
  {
   "cell_type": "code",
   "execution_count": 16,
   "id": "97d65684",
   "metadata": {},
   "outputs": [],
   "source": [
    "criterion = nn.CrossEntropyLoss()\n",
    "optimizer = torch.optim.Adam(model_mlp.parameters(), lr=0.001)"
   ]
  },
  {
   "cell_type": "code",
   "execution_count": 17,
   "id": "7b022ab4",
   "metadata": {},
   "outputs": [
    {
     "name": "stdout",
     "output_type": "stream",
     "text": [
      "Epoch [1/300], Loss: 1.3384, Test Accuracy: 54.40%\n",
      "Epoch [2/300], Loss: 1.3213, Test Accuracy: 54.40%\n",
      "Epoch [3/300], Loss: 1.1723, Test Accuracy: 54.40%\n",
      "Epoch [4/300], Loss: 1.1895, Test Accuracy: 58.84%\n",
      "Epoch [5/300], Loss: 1.1009, Test Accuracy: 60.39%\n",
      "Epoch [6/300], Loss: 0.9779, Test Accuracy: 62.36%\n",
      "Epoch [7/300], Loss: 0.9034, Test Accuracy: 62.87%\n",
      "Epoch [8/300], Loss: 0.8905, Test Accuracy: 63.29%\n",
      "Epoch [9/300], Loss: 1.0300, Test Accuracy: 63.29%\n",
      "Epoch [10/300], Loss: 0.9636, Test Accuracy: 63.70%\n",
      "Epoch [11/300], Loss: 0.9311, Test Accuracy: 63.70%\n",
      "Epoch [12/300], Loss: 0.9278, Test Accuracy: 63.08%\n",
      "Epoch [13/300], Loss: 1.1056, Test Accuracy: 63.70%\n",
      "Epoch [14/300], Loss: 0.9058, Test Accuracy: 63.29%\n",
      "Epoch [15/300], Loss: 0.9227, Test Accuracy: 62.98%\n",
      "Epoch [16/300], Loss: 0.9149, Test Accuracy: 65.36%\n",
      "Epoch [17/300], Loss: 0.9745, Test Accuracy: 64.84%\n",
      "Epoch [18/300], Loss: 0.9428, Test Accuracy: 66.39%\n",
      "Epoch [19/300], Loss: 0.8770, Test Accuracy: 66.08%\n",
      "Epoch [20/300], Loss: 0.7593, Test Accuracy: 64.32%\n",
      "Epoch [21/300], Loss: 0.7927, Test Accuracy: 67.43%\n",
      "Epoch [22/300], Loss: 0.8043, Test Accuracy: 65.67%\n",
      "Epoch [23/300], Loss: 0.9088, Test Accuracy: 67.43%\n",
      "Epoch [24/300], Loss: 0.7303, Test Accuracy: 67.63%\n",
      "Epoch [25/300], Loss: 0.7719, Test Accuracy: 67.01%\n",
      "Epoch [26/300], Loss: 0.8075, Test Accuracy: 66.70%\n",
      "Epoch [27/300], Loss: 0.7856, Test Accuracy: 66.18%\n",
      "Epoch [28/300], Loss: 0.8668, Test Accuracy: 67.63%\n",
      "Epoch [29/300], Loss: 0.7944, Test Accuracy: 67.11%\n",
      "Epoch [30/300], Loss: 0.7169, Test Accuracy: 68.67%\n",
      "Epoch [31/300], Loss: 0.6659, Test Accuracy: 68.25%\n",
      "Epoch [32/300], Loss: 0.7551, Test Accuracy: 66.80%\n",
      "Epoch [33/300], Loss: 0.5707, Test Accuracy: 68.05%\n",
      "Epoch [34/300], Loss: 0.6926, Test Accuracy: 67.74%\n",
      "Epoch [35/300], Loss: 0.7228, Test Accuracy: 68.98%\n",
      "Epoch [36/300], Loss: 0.7859, Test Accuracy: 70.94%\n",
      "Epoch [37/300], Loss: 0.7003, Test Accuracy: 67.53%\n",
      "Epoch [38/300], Loss: 0.7286, Test Accuracy: 66.29%\n",
      "Epoch [39/300], Loss: 0.7315, Test Accuracy: 67.94%\n",
      "Epoch [40/300], Loss: 0.8663, Test Accuracy: 67.11%\n",
      "Epoch [41/300], Loss: 0.7662, Test Accuracy: 69.29%\n",
      "Epoch [42/300], Loss: 0.7496, Test Accuracy: 69.29%\n",
      "Epoch [43/300], Loss: 0.5379, Test Accuracy: 70.11%\n",
      "Epoch [44/300], Loss: 0.6811, Test Accuracy: 70.01%\n",
      "Epoch [45/300], Loss: 0.7654, Test Accuracy: 71.87%\n",
      "Epoch [46/300], Loss: 0.6138, Test Accuracy: 69.70%\n",
      "Epoch [47/300], Loss: 0.7536, Test Accuracy: 72.08%\n",
      "Epoch [48/300], Loss: 0.7193, Test Accuracy: 73.32%\n",
      "Epoch [49/300], Loss: 0.6725, Test Accuracy: 68.98%\n",
      "Epoch [50/300], Loss: 0.6982, Test Accuracy: 68.98%\n",
      "Epoch [51/300], Loss: 0.5923, Test Accuracy: 72.60%\n",
      "Epoch [52/300], Loss: 0.7192, Test Accuracy: 71.35%\n",
      "Epoch [53/300], Loss: 0.7220, Test Accuracy: 69.49%\n",
      "Epoch [54/300], Loss: 0.6733, Test Accuracy: 71.87%\n",
      "Epoch [55/300], Loss: 0.6596, Test Accuracy: 73.32%\n",
      "Epoch [56/300], Loss: 0.6664, Test Accuracy: 72.29%\n",
      "Epoch [57/300], Loss: 0.6735, Test Accuracy: 70.53%\n",
      "Epoch [58/300], Loss: 0.5542, Test Accuracy: 72.70%\n",
      "Epoch [59/300], Loss: 0.6457, Test Accuracy: 71.15%\n",
      "Epoch [60/300], Loss: 0.7279, Test Accuracy: 71.25%\n",
      "Epoch [61/300], Loss: 0.6274, Test Accuracy: 71.87%\n",
      "Epoch [62/300], Loss: 0.6442, Test Accuracy: 71.87%\n",
      "Epoch [63/300], Loss: 0.6293, Test Accuracy: 69.60%\n",
      "Epoch [64/300], Loss: 0.5799, Test Accuracy: 72.29%\n",
      "Epoch [65/300], Loss: 0.6435, Test Accuracy: 73.22%\n",
      "Epoch [66/300], Loss: 0.7170, Test Accuracy: 73.63%\n",
      "Epoch [67/300], Loss: 0.8182, Test Accuracy: 72.29%\n",
      "Epoch [68/300], Loss: 0.6944, Test Accuracy: 73.84%\n",
      "Epoch [69/300], Loss: 0.8347, Test Accuracy: 73.32%\n",
      "Epoch [70/300], Loss: 0.7052, Test Accuracy: 73.11%\n",
      "Epoch [71/300], Loss: 0.6558, Test Accuracy: 74.46%\n",
      "Epoch [72/300], Loss: 0.5016, Test Accuracy: 73.73%\n",
      "Epoch [73/300], Loss: 0.6070, Test Accuracy: 74.97%\n",
      "Epoch [74/300], Loss: 0.6242, Test Accuracy: 73.73%\n",
      "Epoch [75/300], Loss: 0.5173, Test Accuracy: 71.77%\n",
      "Epoch [76/300], Loss: 0.5801, Test Accuracy: 74.56%\n",
      "Epoch [77/300], Loss: 0.7537, Test Accuracy: 72.39%\n",
      "Epoch [78/300], Loss: 0.6772, Test Accuracy: 73.11%\n",
      "Epoch [79/300], Loss: 0.8335, Test Accuracy: 72.49%\n",
      "Epoch [80/300], Loss: 0.6133, Test Accuracy: 69.49%\n",
      "Epoch [81/300], Loss: 0.5153, Test Accuracy: 72.39%\n",
      "Epoch [82/300], Loss: 0.7618, Test Accuracy: 74.25%\n",
      "Epoch [83/300], Loss: 0.5751, Test Accuracy: 76.01%\n",
      "Epoch [84/300], Loss: 0.6826, Test Accuracy: 73.11%\n",
      "Epoch [85/300], Loss: 0.5553, Test Accuracy: 72.18%\n",
      "Epoch [86/300], Loss: 0.7248, Test Accuracy: 71.04%\n",
      "Epoch [87/300], Loss: 0.6818, Test Accuracy: 74.04%\n",
      "Epoch [88/300], Loss: 0.6546, Test Accuracy: 73.53%\n",
      "Epoch [89/300], Loss: 0.6540, Test Accuracy: 75.90%\n",
      "Epoch [90/300], Loss: 0.5659, Test Accuracy: 74.66%\n",
      "Epoch [91/300], Loss: 0.7852, Test Accuracy: 73.22%\n",
      "Epoch [92/300], Loss: 0.8869, Test Accuracy: 73.63%\n",
      "Epoch [93/300], Loss: 0.6592, Test Accuracy: 75.59%\n",
      "Epoch [94/300], Loss: 0.5207, Test Accuracy: 71.46%\n",
      "Epoch [95/300], Loss: 0.5200, Test Accuracy: 75.70%\n",
      "Epoch [96/300], Loss: 0.6002, Test Accuracy: 74.87%\n",
      "Epoch [97/300], Loss: 0.6585, Test Accuracy: 73.84%\n",
      "Epoch [98/300], Loss: 0.5932, Test Accuracy: 75.90%\n",
      "Epoch [99/300], Loss: 0.6799, Test Accuracy: 74.15%\n",
      "Epoch [100/300], Loss: 0.6491, Test Accuracy: 74.77%\n",
      "Epoch [101/300], Loss: 0.6350, Test Accuracy: 72.08%\n",
      "Epoch [102/300], Loss: 0.6986, Test Accuracy: 75.18%\n",
      "Epoch [103/300], Loss: 0.5925, Test Accuracy: 74.15%\n",
      "Epoch [104/300], Loss: 0.5886, Test Accuracy: 76.11%\n",
      "Epoch [105/300], Loss: 0.5961, Test Accuracy: 76.63%\n",
      "Epoch [106/300], Loss: 0.5148, Test Accuracy: 73.11%\n",
      "Epoch [107/300], Loss: 0.7613, Test Accuracy: 73.73%\n",
      "Epoch [108/300], Loss: 0.5521, Test Accuracy: 75.80%\n",
      "Epoch [109/300], Loss: 0.6268, Test Accuracy: 76.63%\n",
      "Epoch [110/300], Loss: 0.6657, Test Accuracy: 77.66%\n",
      "Epoch [111/300], Loss: 0.5992, Test Accuracy: 75.90%\n",
      "Epoch [112/300], Loss: 0.5032, Test Accuracy: 76.01%\n",
      "Epoch [113/300], Loss: 0.5492, Test Accuracy: 75.80%\n",
      "Epoch [114/300], Loss: 0.4983, Test Accuracy: 74.35%\n",
      "Epoch [115/300], Loss: 0.4795, Test Accuracy: 73.84%\n",
      "Epoch [116/300], Loss: 0.4415, Test Accuracy: 76.84%\n",
      "Epoch [117/300], Loss: 0.5355, Test Accuracy: 74.77%\n",
      "Epoch [118/300], Loss: 0.6927, Test Accuracy: 75.18%\n",
      "Epoch [119/300], Loss: 0.6143, Test Accuracy: 74.56%\n",
      "Epoch [120/300], Loss: 0.5006, Test Accuracy: 76.22%\n",
      "Epoch [121/300], Loss: 0.6311, Test Accuracy: 71.98%\n",
      "Epoch [122/300], Loss: 0.6784, Test Accuracy: 73.42%\n",
      "Epoch [123/300], Loss: 0.6331, Test Accuracy: 76.42%\n",
      "Epoch [124/300], Loss: 0.4988, Test Accuracy: 75.90%\n",
      "Epoch [125/300], Loss: 0.5348, Test Accuracy: 76.22%\n",
      "Epoch [126/300], Loss: 0.5044, Test Accuracy: 76.32%\n",
      "Epoch [127/300], Loss: 0.5793, Test Accuracy: 77.46%\n",
      "Epoch [128/300], Loss: 0.5441, Test Accuracy: 76.84%\n",
      "Epoch [129/300], Loss: 0.5217, Test Accuracy: 74.87%\n",
      "Epoch [130/300], Loss: 0.6416, Test Accuracy: 74.35%\n",
      "Epoch [131/300], Loss: 0.5421, Test Accuracy: 74.66%\n",
      "Epoch [132/300], Loss: 0.6487, Test Accuracy: 76.94%\n",
      "Epoch [133/300], Loss: 0.6265, Test Accuracy: 77.25%\n",
      "Epoch [134/300], Loss: 0.5512, Test Accuracy: 76.73%\n",
      "Epoch [135/300], Loss: 0.6344, Test Accuracy: 77.97%\n",
      "Epoch [136/300], Loss: 0.4807, Test Accuracy: 77.15%\n",
      "Epoch [137/300], Loss: 0.5296, Test Accuracy: 76.63%\n",
      "Epoch [138/300], Loss: 0.6583, Test Accuracy: 76.73%\n",
      "Epoch [139/300], Loss: 0.5064, Test Accuracy: 76.84%\n",
      "Epoch [140/300], Loss: 0.5822, Test Accuracy: 76.01%\n",
      "Epoch [141/300], Loss: 0.6478, Test Accuracy: 75.59%\n",
      "Epoch [142/300], Loss: 0.3987, Test Accuracy: 77.66%\n",
      "Epoch [143/300], Loss: 0.5044, Test Accuracy: 77.87%\n",
      "Epoch [144/300], Loss: 0.5758, Test Accuracy: 75.59%\n",
      "Epoch [145/300], Loss: 0.4655, Test Accuracy: 76.94%\n",
      "Epoch [146/300], Loss: 0.6111, Test Accuracy: 77.66%\n",
      "Epoch [147/300], Loss: 0.4510, Test Accuracy: 74.56%\n",
      "Epoch [148/300], Loss: 0.5798, Test Accuracy: 75.80%\n",
      "Epoch [149/300], Loss: 0.5154, Test Accuracy: 78.39%\n",
      "Epoch [150/300], Loss: 0.5425, Test Accuracy: 77.25%\n",
      "Epoch [151/300], Loss: 0.5587, Test Accuracy: 78.39%\n",
      "Epoch [152/300], Loss: 0.3745, Test Accuracy: 75.70%\n",
      "Epoch [153/300], Loss: 0.5242, Test Accuracy: 75.70%\n",
      "Epoch [154/300], Loss: 0.4870, Test Accuracy: 76.22%\n",
      "Epoch [155/300], Loss: 0.5507, Test Accuracy: 79.73%\n",
      "Epoch [156/300], Loss: 0.6193, Test Accuracy: 76.73%\n",
      "Epoch [157/300], Loss: 0.5927, Test Accuracy: 77.66%\n"
     ]
    },
    {
     "name": "stdout",
     "output_type": "stream",
     "text": [
      "Epoch [158/300], Loss: 0.5560, Test Accuracy: 79.52%\n",
      "Epoch [159/300], Loss: 0.5886, Test Accuracy: 79.11%\n",
      "Epoch [160/300], Loss: 0.4493, Test Accuracy: 77.46%\n",
      "Epoch [161/300], Loss: 0.5400, Test Accuracy: 78.18%\n",
      "Epoch [162/300], Loss: 0.6469, Test Accuracy: 78.70%\n",
      "Epoch [163/300], Loss: 0.4729, Test Accuracy: 79.21%\n",
      "Epoch [164/300], Loss: 0.6054, Test Accuracy: 78.49%\n",
      "Epoch [165/300], Loss: 0.5398, Test Accuracy: 78.59%\n",
      "Epoch [166/300], Loss: 0.5352, Test Accuracy: 78.18%\n",
      "Epoch [167/300], Loss: 0.5325, Test Accuracy: 78.39%\n",
      "Epoch [168/300], Loss: 0.5510, Test Accuracy: 77.66%\n",
      "Epoch [169/300], Loss: 0.4982, Test Accuracy: 77.77%\n",
      "Epoch [170/300], Loss: 0.4632, Test Accuracy: 77.15%\n",
      "Epoch [171/300], Loss: 0.5381, Test Accuracy: 76.22%\n",
      "Epoch [172/300], Loss: 0.5713, Test Accuracy: 78.28%\n",
      "Epoch [173/300], Loss: 0.5973, Test Accuracy: 79.52%\n",
      "Epoch [174/300], Loss: 0.4670, Test Accuracy: 79.63%\n",
      "Epoch [175/300], Loss: 0.6348, Test Accuracy: 79.52%\n",
      "Epoch [176/300], Loss: 0.5222, Test Accuracy: 78.08%\n",
      "Epoch [177/300], Loss: 0.4561, Test Accuracy: 77.66%\n",
      "Epoch [178/300], Loss: 0.5489, Test Accuracy: 78.80%\n",
      "Epoch [179/300], Loss: 0.6745, Test Accuracy: 79.73%\n",
      "Epoch [180/300], Loss: 0.6089, Test Accuracy: 75.28%\n",
      "Epoch [181/300], Loss: 0.5841, Test Accuracy: 78.18%\n",
      "Epoch [182/300], Loss: 0.5957, Test Accuracy: 78.08%\n",
      "Epoch [183/300], Loss: 0.6681, Test Accuracy: 67.94%\n",
      "Epoch [184/300], Loss: 0.7228, Test Accuracy: 77.25%\n",
      "Epoch [185/300], Loss: 0.5008, Test Accuracy: 74.87%\n",
      "Epoch [186/300], Loss: 0.4940, Test Accuracy: 78.18%\n",
      "Epoch [187/300], Loss: 0.6126, Test Accuracy: 78.18%\n",
      "Epoch [188/300], Loss: 0.6287, Test Accuracy: 77.87%\n",
      "Epoch [189/300], Loss: 0.6442, Test Accuracy: 79.63%\n",
      "Epoch [190/300], Loss: 0.4780, Test Accuracy: 80.35%\n",
      "Epoch [191/300], Loss: 0.5605, Test Accuracy: 78.18%\n",
      "Epoch [192/300], Loss: 0.5205, Test Accuracy: 76.63%\n",
      "Epoch [193/300], Loss: 0.4196, Test Accuracy: 78.80%\n",
      "Epoch [194/300], Loss: 0.5474, Test Accuracy: 80.46%\n",
      "Epoch [195/300], Loss: 0.5132, Test Accuracy: 78.59%\n",
      "Epoch [196/300], Loss: 0.4057, Test Accuracy: 79.52%\n",
      "Epoch [197/300], Loss: 0.6310, Test Accuracy: 78.39%\n",
      "Epoch [198/300], Loss: 0.5059, Test Accuracy: 77.35%\n",
      "Epoch [199/300], Loss: 0.6451, Test Accuracy: 69.80%\n",
      "Epoch [200/300], Loss: 0.5466, Test Accuracy: 77.46%\n",
      "Epoch [201/300], Loss: 0.4269, Test Accuracy: 79.94%\n",
      "Epoch [202/300], Loss: 0.4932, Test Accuracy: 79.32%\n",
      "Epoch [203/300], Loss: 0.5418, Test Accuracy: 80.87%\n",
      "Epoch [204/300], Loss: 0.3842, Test Accuracy: 77.97%\n",
      "Epoch [205/300], Loss: 0.6193, Test Accuracy: 76.11%\n",
      "Epoch [206/300], Loss: 0.6338, Test Accuracy: 77.46%\n",
      "Epoch [207/300], Loss: 0.5657, Test Accuracy: 80.87%\n",
      "Epoch [208/300], Loss: 0.4188, Test Accuracy: 79.32%\n",
      "Epoch [209/300], Loss: 0.5878, Test Accuracy: 78.39%\n",
      "Epoch [210/300], Loss: 0.6138, Test Accuracy: 79.94%\n",
      "Epoch [211/300], Loss: 0.3687, Test Accuracy: 79.11%\n",
      "Epoch [212/300], Loss: 0.5596, Test Accuracy: 79.11%\n",
      "Epoch [213/300], Loss: 0.5393, Test Accuracy: 79.94%\n",
      "Epoch [214/300], Loss: 0.3792, Test Accuracy: 78.70%\n",
      "Epoch [215/300], Loss: 0.6664, Test Accuracy: 79.11%\n",
      "Epoch [216/300], Loss: 0.5259, Test Accuracy: 80.04%\n",
      "Epoch [217/300], Loss: 0.4522, Test Accuracy: 81.28%\n",
      "Epoch [218/300], Loss: 0.6336, Test Accuracy: 79.63%\n",
      "Epoch [219/300], Loss: 0.4967, Test Accuracy: 80.25%\n",
      "Epoch [220/300], Loss: 0.4506, Test Accuracy: 81.39%\n",
      "Epoch [221/300], Loss: 0.5707, Test Accuracy: 82.32%\n",
      "Epoch [222/300], Loss: 0.4480, Test Accuracy: 80.66%\n",
      "Epoch [223/300], Loss: 0.5726, Test Accuracy: 81.70%\n",
      "Epoch [224/300], Loss: 0.4988, Test Accuracy: 73.53%\n",
      "Epoch [225/300], Loss: 0.4842, Test Accuracy: 78.08%\n",
      "Epoch [226/300], Loss: 0.4110, Test Accuracy: 75.70%\n",
      "Epoch [227/300], Loss: 0.6339, Test Accuracy: 78.18%\n",
      "Epoch [228/300], Loss: 0.5061, Test Accuracy: 80.14%\n",
      "Epoch [229/300], Loss: 0.6146, Test Accuracy: 78.39%\n",
      "Epoch [230/300], Loss: 0.5413, Test Accuracy: 80.04%\n",
      "Epoch [231/300], Loss: 0.4553, Test Accuracy: 80.14%\n",
      "Epoch [232/300], Loss: 0.5477, Test Accuracy: 82.42%\n",
      "Epoch [233/300], Loss: 0.5792, Test Accuracy: 81.28%\n",
      "Epoch [234/300], Loss: 0.4711, Test Accuracy: 80.97%\n",
      "Epoch [235/300], Loss: 0.5653, Test Accuracy: 79.63%\n",
      "Epoch [236/300], Loss: 0.5218, Test Accuracy: 80.77%\n",
      "Epoch [237/300], Loss: 0.4701, Test Accuracy: 78.90%\n",
      "Epoch [238/300], Loss: 0.5511, Test Accuracy: 79.83%\n",
      "Epoch [239/300], Loss: 0.4205, Test Accuracy: 82.32%\n",
      "Epoch [240/300], Loss: 0.4909, Test Accuracy: 79.83%\n",
      "Epoch [241/300], Loss: 0.5362, Test Accuracy: 80.04%\n",
      "Epoch [242/300], Loss: 0.4614, Test Accuracy: 81.80%\n",
      "Epoch [243/300], Loss: 0.5693, Test Accuracy: 81.80%\n",
      "Epoch [244/300], Loss: 0.3488, Test Accuracy: 82.94%\n",
      "Epoch [245/300], Loss: 0.6287, Test Accuracy: 77.77%\n",
      "Epoch [246/300], Loss: 0.6501, Test Accuracy: 78.59%\n",
      "Epoch [247/300], Loss: 0.4384, Test Accuracy: 78.18%\n",
      "Epoch [248/300], Loss: 0.4680, Test Accuracy: 82.32%\n",
      "Epoch [249/300], Loss: 0.5501, Test Accuracy: 81.18%\n",
      "Epoch [250/300], Loss: 0.4100, Test Accuracy: 80.77%\n",
      "Epoch [251/300], Loss: 0.5455, Test Accuracy: 82.94%\n",
      "Epoch [252/300], Loss: 0.4820, Test Accuracy: 81.49%\n",
      "Epoch [253/300], Loss: 0.5567, Test Accuracy: 78.80%\n",
      "Epoch [254/300], Loss: 0.6105, Test Accuracy: 77.77%\n",
      "Epoch [255/300], Loss: 0.4794, Test Accuracy: 81.90%\n",
      "Epoch [256/300], Loss: 0.4489, Test Accuracy: 80.97%\n",
      "Epoch [257/300], Loss: 0.4603, Test Accuracy: 78.80%\n",
      "Epoch [258/300], Loss: 0.4661, Test Accuracy: 82.63%\n",
      "Epoch [259/300], Loss: 0.4209, Test Accuracy: 82.21%\n",
      "Epoch [260/300], Loss: 0.4890, Test Accuracy: 78.80%\n",
      "Epoch [261/300], Loss: 0.4226, Test Accuracy: 79.63%\n",
      "Epoch [262/300], Loss: 0.5562, Test Accuracy: 80.56%\n",
      "Epoch [263/300], Loss: 0.3715, Test Accuracy: 77.77%\n",
      "Epoch [264/300], Loss: 0.4486, Test Accuracy: 80.66%\n",
      "Epoch [265/300], Loss: 0.4469, Test Accuracy: 79.73%\n",
      "Epoch [266/300], Loss: 0.5623, Test Accuracy: 82.32%\n",
      "Epoch [267/300], Loss: 0.6698, Test Accuracy: 79.42%\n",
      "Epoch [268/300], Loss: 0.5002, Test Accuracy: 81.49%\n",
      "Epoch [269/300], Loss: 0.3415, Test Accuracy: 81.59%\n",
      "Epoch [270/300], Loss: 0.5339, Test Accuracy: 83.76%\n",
      "Epoch [271/300], Loss: 0.5781, Test Accuracy: 83.66%\n",
      "Epoch [272/300], Loss: 0.5091, Test Accuracy: 83.87%\n",
      "Epoch [273/300], Loss: 0.5459, Test Accuracy: 83.25%\n",
      "Epoch [274/300], Loss: 0.4758, Test Accuracy: 84.28%\n",
      "Epoch [275/300], Loss: 0.6676, Test Accuracy: 79.94%\n",
      "Epoch [276/300], Loss: 0.5192, Test Accuracy: 73.22%\n",
      "Epoch [277/300], Loss: 0.4652, Test Accuracy: 82.73%\n",
      "Epoch [278/300], Loss: 0.4781, Test Accuracy: 81.49%\n",
      "Epoch [279/300], Loss: 0.3919, Test Accuracy: 81.90%\n",
      "Epoch [280/300], Loss: 0.4267, Test Accuracy: 82.73%\n",
      "Epoch [281/300], Loss: 0.4347, Test Accuracy: 80.46%\n",
      "Epoch [282/300], Loss: 0.4907, Test Accuracy: 83.97%\n",
      "Epoch [283/300], Loss: 0.5482, Test Accuracy: 81.90%\n",
      "Epoch [284/300], Loss: 0.5502, Test Accuracy: 82.21%\n",
      "Epoch [285/300], Loss: 0.5595, Test Accuracy: 80.97%\n",
      "Epoch [286/300], Loss: 0.4580, Test Accuracy: 84.38%\n",
      "Epoch [287/300], Loss: 0.3995, Test Accuracy: 83.66%\n",
      "Epoch [288/300], Loss: 0.5422, Test Accuracy: 83.45%\n",
      "Epoch [289/300], Loss: 0.5322, Test Accuracy: 84.90%\n",
      "Epoch [290/300], Loss: 0.4169, Test Accuracy: 83.35%\n",
      "Epoch [291/300], Loss: 0.3716, Test Accuracy: 84.18%\n",
      "Epoch [292/300], Loss: 0.5661, Test Accuracy: 85.21%\n",
      "Epoch [293/300], Loss: 0.3403, Test Accuracy: 83.35%\n",
      "Epoch [294/300], Loss: 0.4267, Test Accuracy: 79.52%\n",
      "Epoch [295/300], Loss: 0.5529, Test Accuracy: 76.11%\n",
      "Epoch [296/300], Loss: 0.4614, Test Accuracy: 84.90%\n",
      "Epoch [297/300], Loss: 0.3633, Test Accuracy: 81.39%\n",
      "Epoch [298/300], Loss: 0.4775, Test Accuracy: 83.97%\n",
      "Epoch [299/300], Loss: 0.4881, Test Accuracy: 85.63%\n",
      "Epoch [300/300], Loss: 0.5373, Test Accuracy: 82.32%\n"
     ]
    }
   ],
   "source": [
    "num_epochs = 300\n",
    "for epoch in range(num_epochs):\n",
    "    for i, (features, labels) in enumerate(train_loader):\n",
    "        optimizer.zero_grad()\n",
    "        features = features.to(device)\n",
    "        labels = labels.to(device)\n",
    "        outputs = model_mlp(features)\n",
    "        loss = criterion(outputs, labels)\n",
    "        loss.backward()\n",
    "        optimizer.step()\n",
    "        \n",
    "    # Avalia a acurácia no conjunto de dados de teste\n",
    "    correct = 0\n",
    "    total = 0\n",
    "    with torch.no_grad():\n",
    "        for features, labels in test_loader:\n",
    "            features = features.to(device)\n",
    "            labels = labels.to(device)\n",
    "            outputs = model_mlp(features)\n",
    "            _, predicted = torch.max(outputs.data, 1)\n",
    "            total += labels.size(0)\n",
    "            correct += (predicted == labels).sum().item()\n",
    "\n",
    "    print('Epoch [{}/{}], Loss: {:.4f}, Test Accuracy: {:.2f}%'.format(epoch+1, num_epochs, loss.item(), 100*correct/total))"
   ]
  },
  {
   "cell_type": "markdown",
   "id": "a4129f80",
   "metadata": {},
   "source": [
    "É importante notar que, desde o início, conseguimos atingir uma precisão de cerca de 80% na classificação, o que considero um desempenho bastante satisfatório dado o tamanho do conjunto de treinamento. No entanto, é preciso ter cautela, já que com um conjunto de dados relativamente pequeno, essa taxa de precisão pode não indicar necessariamente que o modelo esteja generalizando bem. Por enquanto, é o melhor resultado que temos; continuarei a avaliar e aprimorar o modelo, e você pode acompanhar todo o progresso no meu perfil do [GitHub](https://github.com/isakruas/vega/blob/master/apps/meteor-tracker/)."
   ]
  },
  {
   "cell_type": "markdown",
   "id": "1f61f2fb",
   "metadata": {},
   "source": [
    "### Etapa 7 - Testando o modelo MLP\n",
    "\n",
    "Para o teste, vamos passar por algumas imagens de uma categoria específica, e avaliar se a previsão está realmente correta.\n"
   ]
  },
  {
   "cell_type": "code",
   "execution_count": 71,
   "id": "7e4909d9",
   "metadata": {},
   "outputs": [
    {
     "data": {
      "image/png": "[encoded data removed]",
      "text/plain": [
       "<Figure size 1500x500 with 7 Axes>"
      ]
     },
     "metadata": {},
     "output_type": "display_data"
    }
   ],
   "source": [
    "# Faça a inferência em uma imagem de exemplo\n",
    "\n",
    "import os\n",
    "from PIL import Image\n",
    "import matplotlib.pyplot as plt\n",
    "import os\n",
    "import random\n",
    "\n",
    "# Especifica o caminho para a pasta com os arquivos .pg\n",
    "folder_path = './classes/sky_with_meteor/'\n",
    "\n",
    "# Obtém uma lista com o nome de todos os arquivos na pasta\n",
    "file_list = random.sample(os.listdir(folder_path), k=7)\n",
    "\n",
    "# Cria uma figura com subplots para cada imagem\n",
    "fig, axs = plt.subplots(1, len(file_list), figsize=(15, 5))\n",
    "\n",
    "# Itera sobre cada arquivo na lista\n",
    "for i, file_name in enumerate(file_list):\n",
    "    # Verifica se o arquivo tem a extensão .pg\n",
    "    if file_name.endswith('.png'):\n",
    "        # Abre o arquivo com a biblioteca PIL\n",
    "        file_path = os.path.join(folder_path, file_name)\n",
    "        image = Image.open(file_path)\n",
    "        \n",
    "        # Aplica as transformações na imagem\n",
    "        image = transform(image).to(device)\n",
    "\n",
    "        # Faça a inferência na rede neural na imagem de exemplo\n",
    "        model_mlp.eval()\n",
    "        with torch.no_grad():\n",
    "            output = model_mlp(image.unsqueeze(0))\n",
    "            _, predicted = torch.max(output, 1)\n",
    "\n",
    "        # Exiba a classe predita pela rede neural\n",
    "        axs[i].imshow(image.cpu().detach().squeeze(), cmap='gray')\n",
    "        axs[i].set_title(dataset.classes[predicted])\n",
    "        axs[i].axis('off')\n",
    "plt.show()"
   ]
  },
  {
   "cell_type": "markdown",
   "id": "c6b09fda",
   "metadata": {},
   "source": [
    "É importante ressaltar que, apesar da alta taxa de precisão, o modelo ainda apresenta algumas falhas na classificação de alguns casos. Isso pode ser devido às características específicas das imagens em questão, que podem ser difíceis de serem detectadas pelo modelo. Talvez seja necessário adaptar o modelo para melhorar sua capacidade de lidar com essas imagens específicas. No entanto, uma coisa que tenho certeza é que é fundamental aumentar a quantidade de dados disponíveis para treinamento do modelo, de forma a fornecer uma base mais robusta para identificação de características e melhorar sua capacidade de diferenciação entre as classes."
   ]
  },
  {
   "cell_type": "markdown",
   "id": "8e54ccfb",
   "metadata": {},
   "source": [
    "### Conclusões\n",
    "\n",
    "\n",
    "Criar um modelo como este, com a propósito que tem, é sem dúvidas desafiador, do início ao fim. No entanto, para mim, isso é um gatilho motivacional. As horas de pesquisa e experimentação aplicadas aqui me fizeram ter uma compreensão melhor sobre como funciona a dinâmica deste tipo de modelo de classificação de imagens e me impuseram lidar com desafios além dos apresentados aqui, como o armazenamento dos dados e preprocessamento. Tudo desenvolvido aqui foi feito com muito esforço, dedicação e, principalmente, entusiasmo e amor. Eu realmente gosto disso.\n",
    "\n",
    "Irei continuar aprimorando este modelo, principalmente rotulando mais dados e mesclando este meu hobby com a área de estudo que pretendo seguir. Por agora é isso, espero que tenha gostado do artigo. Compartilhe com seus conhecidos e, como de praxe, tudo desenvolvido aqui estará em meu GitHub, que neste caso, é o repositório Vega. Fui!"
   ]
  },
  {
   "cell_type": "markdown",
   "id": "d8eb86a5",
   "metadata": {},
   "source": [
    "### Bônus de código "
   ]
  },
  {
   "cell_type": "markdown",
   "id": "00e2c5ed",
   "metadata": {},
   "source": [
    "Salvando os modelos"
   ]
  },
  {
   "cell_type": "code",
   "execution_count": 74,
   "id": "ce2c3972",
   "metadata": {},
   "outputs": [],
   "source": [
    "torch.save(model_cae.state_dict(), 'model_cae.pth')\n",
    "torch.save(model_mlp.state_dict(), 'model_mlp.pth')"
   ]
  },
  {
   "cell_type": "markdown",
   "id": "983918db",
   "metadata": {},
   "source": [
    "Carregando modelo"
   ]
  },
  {
   "cell_type": "code",
   "execution_count": 75,
   "id": "5432921d",
   "metadata": {},
   "outputs": [
    {
     "data": {
      "text/plain": [
       "<All keys matched successfully>"
      ]
     },
     "execution_count": 75,
     "metadata": {},
     "output_type": "execute_result"
    }
   ],
   "source": [
    "model_cae.load_state_dict(torch.load('model_cae.pth'))\n",
    "model_mlp.load_state_dict(torch.load('model_mlp.pth'))"
   ]
  },
  {
   "cell_type": "markdown",
   "id": "2aa7e2de",
   "metadata": {},
   "source": [
    "*Gostaria de fazer a referência deste texto em um trabalho escolar ou acadêmico? Use:*\n",
    "\n",
    "RUAS, Isak Paulo de Andrade. Treinando minha rede neural de detecção de meteoros. 2023. Disponível em: https://3devs.com.br/post/6/. Acesso em: Dia Mês. Ano."
   ]
  }
 ],
 "metadata": {
  "kernelspec": {
   "display_name": "Python 3 (ipykernel)",
   "language": "python",
   "name": "python3"
  },
  "language_info": {
   "codemirror_mode": {
    "name": "ipython",
    "version": 3
   },
   "file_extension": ".py",
   "mimetype": "text/x-python",
   "name": "python",
   "nbconvert_exporter": "python",
   "pygments_lexer": "ipython3",
   "version": "3.10.6"
  }
 },
 "nbformat": 4,
 "nbformat_minor": 5
}
